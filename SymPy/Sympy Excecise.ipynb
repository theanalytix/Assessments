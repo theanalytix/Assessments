{
 "cells": [
  {
   "cell_type": "markdown",
   "id": "24c3a5a8",
   "metadata": {},
   "source": [
    "\n",
    "# Excercise : SymPy\n",
    "\n",
    "Estimated time needed: **60** minutes\n",
    "\n",
    "## Objectives\n",
    "\n",
    "After completing this lab you will have a good understanding in:\n",
    "\n",
    "*   Algebra and Trigonometric Formations\n",
    "*   Calculus\n",
    "*   Problems Formation\n",
    "\n",
    "This Notebook is created for Python Module\n",
    "\n",
    "*   In case of any doubts contact to webinars@theanalytix.in "
   ]
  },
  {
   "cell_type": "markdown",
   "id": "9c5f49a1",
   "metadata": {},
   "source": [
    "### **Import the SymPy package as `sym`  and check its version**"
   ]
  },
  {
   "cell_type": "code",
   "execution_count": null,
   "id": "212769b2",
   "metadata": {},
   "outputs": [],
   "source": []
  },
  {
   "cell_type": "markdown",
   "id": "fa6b2963",
   "metadata": {},
   "source": [
    "### **Import all the functions of Sympy** \n",
    "`Hint: use * operator`"
   ]
  },
  {
   "cell_type": "code",
   "execution_count": null,
   "id": "1c87d1b3",
   "metadata": {},
   "outputs": [],
   "source": []
  },
  {
   "cell_type": "markdown",
   "id": "2d1691c0",
   "metadata": {},
   "source": [
    "# <font color = 'darkgreen'>Algebra & Trignometry Questions</font>\n",
    "\n",
    "Quadratic Equations, Word Problems, Factorization, Trignometry\n",
    "_____\n",
    "_____"
   ]
  },
  {
   "cell_type": "markdown",
   "id": "417293e8",
   "metadata": {},
   "source": [
    "### **Solve the following equations**"
   ]
  },
  {
   "cell_type": "markdown",
   "id": "054bfa46",
   "metadata": {},
   "source": [
    "## **i)** $x^2 + 2\\sqrt{2}x-6= 0$ <br>\n",
    "\n",
    "`output` = $[-3\\sqrt{2}, \\sqrt{2}]$"
   ]
  },
  {
   "cell_type": "code",
   "execution_count": null,
   "id": "bf9688f1",
   "metadata": {},
   "outputs": [],
   "source": []
  },
  {
   "cell_type": "markdown",
   "id": "2caef8db",
   "metadata": {},
   "source": [
    "## **ii)**: $3x^2 + 5\\sqrt{5}x -10 = 0$ <br>\n",
    "\n",
    "`output` = $[-2\\sqrt{5},\\frac{\\sqrt{5}}{3}]$"
   ]
  },
  {
   "cell_type": "code",
   "execution_count": null,
   "id": "406ec6d7",
   "metadata": {},
   "outputs": [],
   "source": []
  },
  {
   "cell_type": "markdown",
   "id": "340ac895",
   "metadata": {},
   "source": [
    "## **iii)**: $\\frac{x}{x+1} + \\frac{x+1}{x} = \\frac{34}{15}$<br>\n",
    "\n",
    "`output`: $\\frac{-5}{2}, \\frac{3}{2}$"
   ]
  },
  {
   "cell_type": "code",
   "execution_count": null,
   "id": "c6c984ac",
   "metadata": {},
   "outputs": [],
   "source": []
  },
  {
   "cell_type": "markdown",
   "id": "250042e4",
   "metadata": {},
   "source": [
    "## **iv)** $\\frac{1}{2 -\\frac{1}{2 - \\frac{1}{2-x}}} = x$"
   ]
  },
  {
   "cell_type": "code",
   "execution_count": null,
   "id": "6d12fedf",
   "metadata": {},
   "outputs": [],
   "source": []
  },
  {
   "cell_type": "markdown",
   "id": "664aeb00",
   "metadata": {},
   "source": [
    "## **v)** $a^2x^2- 3abx + 2b^2 = 0$<br>\n",
    "\n",
    "`output` $[{a : \\frac{b}{x}}, {a : \\frac{2b}{x}}]$"
   ]
  },
  {
   "cell_type": "code",
   "execution_count": null,
   "id": "53268876",
   "metadata": {},
   "outputs": [],
   "source": []
  },
  {
   "cell_type": "markdown",
   "id": "9ba197cb",
   "metadata": {},
   "source": [
    "## Solve the Word Problems\n",
    "\n",
    "i) A person has Rs 360 for his expenses. If he extends his tour for 4 days, he has to cut down his daily expenses by Rs 3. Find the original duration of the tour.\n",
    "\n",
    "`output` : 20"
   ]
  },
  {
   "cell_type": "code",
   "execution_count": null,
   "id": "43560628",
   "metadata": {},
   "outputs": [],
   "source": []
  },
  {
   "cell_type": "markdown",
   "id": "d7860aa2",
   "metadata": {},
   "source": [
    "ii) The product of two consecutive positive integers is 240. FOrmulate the quadractic equation whose roots are these integers.\n",
    "\n",
    "`output` : $x^2+x−240=0$"
   ]
  },
  {
   "cell_type": "code",
   "execution_count": null,
   "id": "c935a3be",
   "metadata": {},
   "outputs": [],
   "source": []
  },
  {
   "cell_type": "markdown",
   "id": "a6d27c2a",
   "metadata": {},
   "source": [
    "iii) Sum of the areas of the two sides of squares is $468m^2$. If the difference of their prerimeters is $24m$, formulate the quadratic equation to find the sides of the two squares\n",
    "\n",
    "`output`: $x^2+6x^2=216$"
   ]
  },
  {
   "cell_type": "code",
   "execution_count": null,
   "id": "2fb40296",
   "metadata": {},
   "outputs": [],
   "source": []
  },
  {
   "cell_type": "markdown",
   "id": "2b1b4cde",
   "metadata": {},
   "source": [
    "## Factorize\n",
    "\n",
    "### i)  $49x^2 – 1$\n",
    "\n",
    "`output` : $(7x + 1)(7x - 1)$"
   ]
  },
  {
   "cell_type": "code",
   "execution_count": null,
   "id": "16766474",
   "metadata": {},
   "outputs": [],
   "source": []
  },
  {
   "cell_type": "markdown",
   "id": "9ae4c6e4",
   "metadata": {},
   "source": [
    "### ii) $x^2 – 2xy + y^2 – z^2$\n",
    "\n",
    "`output` - $(x – y – z)(x – y + z)$"
   ]
  },
  {
   "cell_type": "code",
   "execution_count": null,
   "id": "9d447793",
   "metadata": {},
   "outputs": [],
   "source": []
  },
  {
   "cell_type": "markdown",
   "id": "a4dcdc32",
   "metadata": {},
   "source": [
    "### iii) $14m^5n^4p^2 - 42m^7n^3p^7 - 70m^6n^4p^3$\n",
    "\n",
    "`output` - "
   ]
  },
  {
   "cell_type": "markdown",
   "id": "d59ca7e0",
   "metadata": {},
   "source": [
    "## Simplify\n",
    "\n",
    "### iv ) For a = 3, simplify $a^2 + 5a + 4$  and  $a^2 – 5a$\n",
    "\n",
    "`output` - "
   ]
  },
  {
   "cell_type": "code",
   "execution_count": null,
   "id": "471ed040",
   "metadata": {},
   "outputs": [],
   "source": []
  },
  {
   "cell_type": "markdown",
   "id": "53a4231e",
   "metadata": {},
   "source": [
    "## Trignometry \n",
    "\n",
    "### v) Evaluate $\\sqrt{\\frac{1 + \\sin A}{1 - \\sin A}}$\n",
    "\n",
    "`output` - $\\sec A + \\tan A$"
   ]
  },
  {
   "cell_type": "code",
   "execution_count": null,
   "id": "388289c9",
   "metadata": {},
   "outputs": [],
   "source": []
  },
  {
   "cell_type": "markdown",
   "id": "ae03a21f",
   "metadata": {},
   "source": [
    "### vi) Given $\\sqrt{\\frac{1 + \\tan A^2}{1 + \\cot A^2}} = \\left(\\frac{1 - \\tan A}{1 - \\cot A}\\right)^2$\n",
    "\n",
    "`output` - $ \\tan A^2$"
   ]
  },
  {
   "cell_type": "code",
   "execution_count": null,
   "id": "7281ee45",
   "metadata": {},
   "outputs": [],
   "source": []
  },
  {
   "cell_type": "markdown",
   "id": "248e4db1",
   "metadata": {},
   "source": [
    "________"
   ]
  },
  {
   "cell_type": "markdown",
   "id": "bcb36f91",
   "metadata": {},
   "source": [
    "# <font color = 'darkgreen'>Calculus Questions </font>\n",
    "Integration, Diffrentiation, Limits\n",
    "____\n",
    "____"
   ]
  },
  {
   "cell_type": "markdown",
   "id": "bb59eb39",
   "metadata": {},
   "source": [
    "### i) Integrate $\\int_0^1\\frac{1}{1+x^2}dx$<br>\n",
    "\n",
    "\n",
    "`output`: $\\frac{\\pi}{4}$:**"
   ]
  },
  {
   "cell_type": "code",
   "execution_count": null,
   "id": "2f97c6c8",
   "metadata": {},
   "outputs": [],
   "source": []
  },
  {
   "cell_type": "markdown",
   "id": "2045331c",
   "metadata": {},
   "source": [
    "### ii) Find the value of $\\int2x\\cos(x^2 – 5)$.\n",
    "\n",
    "`output` : $\\sin(x^2 + 5) + C$"
   ]
  },
  {
   "cell_type": "code",
   "execution_count": null,
   "id": "7b94c220",
   "metadata": {},
   "outputs": [],
   "source": []
  },
  {
   "cell_type": "markdown",
   "id": "d6125341",
   "metadata": {},
   "source": [
    "### iii)  What is the value of $\\int8x^3dx$.\n",
    "\n",
    "`output` : $2x^4 + C$ "
   ]
  },
  {
   "cell_type": "code",
   "execution_count": null,
   "id": "612f062e",
   "metadata": {},
   "outputs": [],
   "source": []
  },
  {
   "cell_type": "markdown",
   "id": "9a87a550",
   "metadata": {},
   "source": [
    "### iv) Find the value of $\\int\\cos(x) + xdx$.\n",
    "\n",
    "`output` : $\\sin(x) + \\frac{x^2}{2}$"
   ]
  },
  {
   "cell_type": "code",
   "execution_count": null,
   "id": "d302429f",
   "metadata": {},
   "outputs": [],
   "source": []
  },
  {
   "cell_type": "markdown",
   "id": "aae15be0",
   "metadata": {},
   "source": [
    "### v) What is the value of $\\int\\sin(ax+b)\\cos(ax+b)dx$."
   ]
  },
  {
   "cell_type": "code",
   "execution_count": null,
   "id": "1cca93e8",
   "metadata": {},
   "outputs": [],
   "source": []
  },
  {
   "cell_type": "markdown",
   "id": "f87fa330",
   "metadata": {},
   "source": [
    "### vi) Differentiate $x^5$ with respect to x.\n",
    "\n",
    "`output` : $5x^4$"
   ]
  },
  {
   "cell_type": "code",
   "execution_count": null,
   "id": "1d00ac7a",
   "metadata": {},
   "outputs": [],
   "source": []
  },
  {
   "cell_type": "markdown",
   "id": "c8f4d64c",
   "metadata": {},
   "source": [
    "### vii)Diffrentiate $\\frac{x+\\cos x}{\\tan x}$ wrt x\n",
    "\n",
    "`output` :$\\frac{\\tan x-\\tan x \\sin x-x \\sec ^{2} x-\\sec x}{\\tan ^{2} x}$"
   ]
  },
  {
   "cell_type": "code",
   "execution_count": null,
   "id": "f3dadeb6",
   "metadata": {},
   "outputs": [],
   "source": []
  },
  {
   "cell_type": "markdown",
   "id": "f66a6009",
   "metadata": {},
   "source": [
    "### viii) Diffrentiate $3x^{x\\log x}$\n",
    "\n",
    "`output` : $3x^{logx}.\\log3(1+log x)$"
   ]
  },
  {
   "cell_type": "code",
   "execution_count": null,
   "id": "f8fc7757",
   "metadata": {},
   "outputs": [],
   "source": []
  },
  {
   "cell_type": "markdown",
   "id": "c0485f66",
   "metadata": {},
   "source": [
    "### ix) Find $\\lim_{x\\to\\infty}\\frac{\\sin x}{x}$\n",
    "\n",
    "`output`: 0, `hint use oo for infinity`"
   ]
  },
  {
   "cell_type": "code",
   "execution_count": null,
   "id": "5c6ecbed",
   "metadata": {},
   "outputs": [],
   "source": []
  },
  {
   "cell_type": "markdown",
   "id": "bc0c544f",
   "metadata": {},
   "source": [
    "### x) Evaluate : $\\lim_{x\\to \\infty}\\frac{\\sqrt{x^2 + a^2} - \\sqrt{x^2 + b^2}}{\\sqrt{x^2 + c^2} - \\sqrt{x^2 +d^2}}$\n",
    "\n",
    "`output` : $\\frac{a^2 - b^2}{c^2  - d^2}$"
   ]
  },
  {
   "cell_type": "code",
   "execution_count": null,
   "id": "a3b38bc4",
   "metadata": {},
   "outputs": [],
   "source": []
  },
  {
   "cell_type": "markdown",
   "id": "5194c3d0",
   "metadata": {},
   "source": [
    "\n",
    "# Great Job!\n",
    "\n",
    "That's all we need to know for now! Congratulations, you have completed one more excerise and hands-on with Python.\n",
    "___\n",
    "____\n",
    "\n",
    "Proprietary Content. All Rights Reserved. This Notebook is prepared by <a href = 'https://www.linkedin.com/in/sumitkumarshukla'> Sumit Kumar Shukla</a> for SymPy Practice __© Copyright by The Analytix(Theax)__. Unauthorized use or distribution prohibited. All Questions Given Below is just made for enhancing your capabilities in Symbolic Mathematics.\n",
    "\n",
    "\n",
    "## Logs\n",
    "\n",
    "\n",
    "| Date (YYYY-MM-DD) | Version | Changed By | Change Description    |\n",
    "| ----------------- | ------- | ---------- | --------------------- |\n",
    "| 2022-09-29        | 1.1  | Purvi   | Questions Seperated on Notebooks |\n",
    "| 2021-07-15        | 1.0    | Sumit   | Created Notebook Format of Lab Questions |\n",
    "|                   |         |            |                       |\n"
   ]
  }
 ],
 "metadata": {
  "kernelspec": {
   "display_name": "Python 3 (ipykernel)",
   "language": "python",
   "name": "python3"
  },
  "language_info": {
   "codemirror_mode": {
    "name": "ipython",
    "version": 3
   },
   "file_extension": ".py",
   "mimetype": "text/x-python",
   "name": "python",
   "nbconvert_exporter": "python",
   "pygments_lexer": "ipython3",
   "version": "3.8.8"
  }
 },
 "nbformat": 4,
 "nbformat_minor": 5
}
