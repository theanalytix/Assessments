{
 "cells": [
  {
   "cell_type": "markdown",
   "id": "c47f5ea9",
   "metadata": {},
   "source": [
    "# Lecture 13:  Symbolic Computation using SymPy\n",
    "\n",
    "Estimated time needed: **50** minutes\n",
    "\n",
    "### What this lecture is about\n",
    "We will discuss the symbolic mathematics we have been using in school and colleges.\n",
    "\n",
    "* Symbols\n",
    "* Algebra\n",
    "* trigsimp\n",
    "* Calculas\n",
    "\n",
    "\n",
    "This Notebook is created using Python\n",
    "\n",
    "*   In case of any doubts contact to webinars@theanalytix.in \n"
   ]
  },
  {
   "cell_type": "markdown",
   "id": "76deb9c4",
   "metadata": {},
   "source": [
    "## What is SymPy ? \n",
    "`SymPy` is a Python library for symbolic mathematics.\n",
    "\n",
    "## What is Symbolic Computation?\n",
    "`Symbolic computation` deals with the computation of mathematical objects symbolically. This means that the mathematical objects are represented exactly, not approximately, and mathematical expressions with unevaluated variables are left in symbolic form."
   ]
  },
  {
   "cell_type": "code",
   "execution_count": null,
   "id": "59fe6665",
   "metadata": {},
   "outputs": [],
   "source": []
  },
  {
   "cell_type": "markdown",
   "id": "94fe10c3",
   "metadata": {},
   "source": [
    "## Importing Package and check its Version"
   ]
  },
  {
   "cell_type": "code",
   "execution_count": 2,
   "id": "4e3a91a2",
   "metadata": {},
   "outputs": [],
   "source": [
    "import sympy as sym"
   ]
  },
  {
   "cell_type": "code",
   "execution_count": 3,
   "id": "0f9f4ab3",
   "metadata": {},
   "outputs": [
    {
     "data": {
      "text/plain": [
       "'1.10.1'"
      ]
     },
     "execution_count": 3,
     "metadata": {},
     "output_type": "execute_result"
    }
   ],
   "source": [
    "sym.__version__"
   ]
  },
  {
   "cell_type": "markdown",
   "id": "0dcbd907",
   "metadata": {},
   "source": [
    "## What are Symbols ? \n",
    "To define variables, we must use `symbols`. symbols takes a string of variable names separated by spaces or commas, and creates Symbols out of them. We can then assign these to variable names.\n",
    "\n",
    "__Note__:  we note that the name of a Symbol and the name of the variable it is assigned to need not have anything to do with one another.\n",
    "\n"
   ]
  },
  {
   "cell_type": "code",
   "execution_count": 4,
   "id": "372e46d9",
   "metadata": {},
   "outputs": [
    {
     "data": {
      "text/latex": [
       "$\\displaystyle a$"
      ],
      "text/plain": [
       "a"
      ]
     },
     "execution_count": 4,
     "metadata": {},
     "output_type": "execute_result"
    }
   ],
   "source": [
    "x = sym.Symbol('a')\n",
    "x"
   ]
  },
  {
   "cell_type": "markdown",
   "id": "2ce2906a",
   "metadata": {},
   "source": [
    "multiple assignments will be done with `symbols`"
   ]
  },
  {
   "cell_type": "code",
   "execution_count": 5,
   "id": "c63f8f0d",
   "metadata": {},
   "outputs": [],
   "source": [
    "a,b,c = sym.symbols('a b c')"
   ]
  },
  {
   "cell_type": "code",
   "execution_count": 6,
   "id": "c720aa11",
   "metadata": {},
   "outputs": [
    {
     "data": {
      "text/plain": [
       "(a, b, c)"
      ]
     },
     "execution_count": 6,
     "metadata": {},
     "output_type": "execute_result"
    }
   ],
   "source": [
    "a,b,c"
   ]
  },
  {
   "cell_type": "code",
   "execution_count": 7,
   "id": "7f8e4ff3",
   "metadata": {},
   "outputs": [
    {
     "data": {
      "text/latex": [
       "$\\displaystyle b$"
      ],
      "text/plain": [
       "b"
      ]
     },
     "execution_count": 7,
     "metadata": {},
     "output_type": "execute_result"
    }
   ],
   "source": [
    "b"
   ]
  },
  {
   "cell_type": "code",
   "execution_count": 16,
   "id": "9f43e162",
   "metadata": {
    "collapsed": true
   },
   "outputs": [
    {
     "name": "stdout",
     "output_type": "stream",
     "text": [
      "['Abs', 'AccumBounds', 'Add', 'Adjoint', 'AlgebraicField', 'AlgebraicNumber', 'And', 'AppliedPredicate', 'Array', 'AssumptionsContext', 'Atom', 'AtomicExpr', 'BasePolynomialError', 'Basic', 'BlockDiagMatrix', 'BlockMatrix', 'CC', 'CRootOf', 'Catalan', 'Chi', 'Ci', 'Circle', 'CoercionFailed', 'Complement', 'ComplexField', 'ComplexRegion', 'ComplexRootOf', 'Complexes', 'ComputationFailed', 'ConditionSet', 'Contains', 'CosineTransform', 'Curve', 'DeferredVector', 'DenseNDimArray', 'Derivative', 'Determinant', 'DiagMatrix', 'DiagonalMatrix', 'DiagonalOf', 'Dict', 'DiracDelta', 'DisjointUnion', 'Domain', 'DomainError', 'DotProduct', 'Dummy', 'E', 'E1', 'EPath', 'EX', 'EXRAW', 'Ei', 'Eijk', 'Ellipse', 'EmptySequence', 'EmptySet', 'Eq', 'Equality', 'Equivalent', 'EulerGamma', 'EvaluationFailed', 'ExactQuotientFailed', 'Expr', 'ExpressionDomain', 'ExtraneousFactors', 'FF', 'FF_gmpy', 'FF_python', 'FU', 'FallingFactorial', 'FiniteField', 'FiniteSet', 'FlagError', 'Float', 'FourierTransform', 'FractionField', 'Function', 'FunctionClass', 'FunctionMatrix', 'GF', 'GMPYFiniteField', 'GMPYIntegerRing', 'GMPYRationalField', 'Ge', 'GeneratorsError', 'GeneratorsNeeded', 'GeometryError', 'GoldenRatio', 'GramSchmidt', 'GreaterThan', 'GroebnerBasis', 'Gt', 'HadamardPower', 'HadamardProduct', 'HankelTransform', 'Heaviside', 'HeuristicGCDFailed', 'HomomorphismFailed', 'I', 'ITE', 'Id', 'Identity', 'Idx', 'ImageSet', 'ImmutableDenseMatrix', 'ImmutableDenseNDimArray', 'ImmutableMatrix', 'ImmutableSparseMatrix', 'ImmutableSparseNDimArray', 'Implies', 'Indexed', 'IndexedBase', 'Integer', 'IntegerRing', 'Integers', 'Integral', 'Intersection', 'Interval', 'Inverse', 'InverseCosineTransform', 'InverseFourierTransform', 'InverseHankelTransform', 'InverseLaplaceTransform', 'InverseMellinTransform', 'InverseSineTransform', 'IsomorphismFailed', 'KroneckerDelta', 'KroneckerProduct', 'LC', 'LM', 'LT', 'Lambda', 'LambertW', 'LaplaceTransform', 'Le', 'LessThan', 'LeviCivita', 'Li', 'Limit', 'Line', 'Line2D', 'Line3D', 'Lt', 'MatAdd', 'MatMul', 'MatPow', 'Matrix', 'MatrixBase', 'MatrixExpr', 'MatrixPermute', 'MatrixSlice', 'MatrixSymbol', 'Max', 'MellinTransform', 'Min', 'Mod', 'Monomial', 'Mul', 'MultivariatePolynomialError', 'MutableDenseMatrix', 'MutableDenseNDimArray', 'MutableMatrix', 'MutableSparseMatrix', 'MutableSparseNDimArray', 'N', 'NDimArray', 'Nand', 'Naturals', 'Naturals0', 'Ne', 'NonSquareMatrixError', 'Nor', 'Not', 'NotAlgebraic', 'NotInvertible', 'NotReversible', 'Number', 'NumberSymbol', 'O', 'OmegaPower', 'OneMatrix', 'OperationNotSupported', 'OptionError', 'Options', 'Or', 'Order', 'Ordinal', 'POSform', 'Parabola', 'Permanent', 'PermutationMatrix', 'Piecewise', 'Plane', 'Point', 'Point2D', 'Point3D', 'PoleError', 'PolificationFailed', 'Poly', 'Polygon', 'PolynomialDivisionFailed', 'PolynomialError', 'PolynomialRing', 'Pow', 'PowerSet', 'PrecisionExhausted', 'Predicate', 'Product', 'ProductSet', 'PurePoly', 'PythonFiniteField', 'PythonIntegerRing', 'PythonRational', 'Q', 'QQ', 'QQ_I', 'QQ_gmpy', 'QQ_python', 'Quaternion', 'RR', 'Range', 'Rational', 'RationalField', 'Rationals', 'Ray', 'Ray2D', 'Ray3D', 'RealField', 'RealNumber', 'Reals', 'RefinementFailed', 'RegularPolygon', 'Rel', 'Rem', 'RisingFactorial', 'RootOf', 'RootSum', 'S', 'SOPform', 'SYMPY_DEBUG', 'Segment', 'Segment2D', 'Segment3D', 'SeqAdd', 'SeqFormula', 'SeqMul', 'SeqPer', 'Set', 'ShapeError', 'Shi', 'Si', 'Sieve', 'SineTransform', 'SingularityFunction', 'SparseMatrix', 'SparseNDimArray', 'StrPrinter', 'StrictGreaterThan', 'StrictLessThan', 'Subs', 'Sum', 'Symbol', 'SymmetricDifference', 'SympifyError', 'TableForm', 'Trace', 'Transpose', 'Triangle', 'TribonacciConstant', 'Tuple', 'Unequality', 'UnevaluatedExpr', 'UnificationFailed', 'Union', 'UnivariatePolynomialError', 'UniversalSet', 'Wild', 'WildFunction', 'Xor', 'Ynm', 'Ynm_c', 'ZZ', 'ZZ_I', 'ZZ_gmpy', 'ZZ_python', 'ZeroMatrix', 'Znm', '__all__', '__builtins__', '__cached__', '__doc__', '__file__', '__loader__', '__name__', '__package__', '__path__', '__spec__', '__sympy_debug', '__version__', 'abc', 'abundance', 'acos', 'acosh', 'acot', 'acoth', 'acsc', 'acsch', 'adjoint', 'airyai', 'airyaiprime', 'airybi', 'airybiprime', 'algebras', 'apart', 'apart_list', 'appellf1', 'apply_finite_diff', 'approximants', 'are_similar', 'arg', 'arity', 'asec', 'asech', 'asin', 'asinh', 'ask', 'assemble_partfrac_list', 'assoc_laguerre', 'assoc_legendre', 'assuming', 'assumptions', 'atan', 'atan2', 'atanh', 'banded', 'bell', 'bernoulli', 'besseli', 'besselj', 'besselk', 'besselsimp', 'bessely', 'beta', 'betainc', 'betainc_regularized', 'binomial', 'binomial_coefficients', 'binomial_coefficients_list', 'block_collapse', 'blockcut', 'bool_map', 'bottom_up', 'bspline_basis', 'bspline_basis_set', 'cacheit', 'calculus', 'cancel', 'capture', 'carmichael', 'cartes', 'casoratian', 'catalan', 'cbrt', 'ccode', 'ceiling', 'centroid', 'chebyshevt', 'chebyshevt_poly', 'chebyshevt_root', 'chebyshevu', 'chebyshevu_poly', 'chebyshevu_root', 'check_assumptions', 'checkodesol', 'checkpdesol', 'checksol', 'classify_ode', 'classify_pde', 'closest_points', 'cofactors', 'collect', 'collect_const', 'combinatorics', 'combsimp', 'comp', 'compose', 'composite', 'compositepi', 'concrete', 'conjugate', 'construct_domain', 'content', 'continued_fraction', 'continued_fraction_convergents', 'continued_fraction_iterator', 'continued_fraction_periodic', 'continued_fraction_reduce', 'convex_hull', 'convolution', 'core', 'cos', 'cosh', 'cosine_transform', 'cot', 'coth', 'count_ops', 'count_roots', 'covering_product', 'csc', 'csch', 'cse', 'cxxcode', 'cycle_length', 'cyclotomic_poly', 'decompogen', 'decompose', 'default_sort_key', 'deg', 'degree', 'degree_list', 'denom', 'derive_by_array', 'det', 'det_quick', 'diag', 'diagonalize_vector', 'dict_merge', 'diff', 'difference_delta', 'differentiate_finite', 'digamma', 'diophantine', 'dirichlet_eta', 'discrete', 'discrete_log', 'discriminant', 'div', 'divisor_count', 'divisor_sigma', 'divisors', 'doctest', 'dotprint', 'dsolve', 'egyptian_fraction', 'elliptic_e', 'elliptic_f', 'elliptic_k', 'elliptic_pi', 'epath', 'erf', 'erf2', 'erf2inv', 'erfc', 'erfcinv', 'erfi', 'erfinv', 'euler', 'euler_equations', 'evalf', 'evaluate', 'exp', 'exp_polar', 'expand', 'expand_complex', 'expand_func', 'expand_log', 'expand_mul', 'expand_multinomial', 'expand_power_base', 'expand_power_exp', 'expand_trig', 'expint', 'exptrigsimp', 'exquo', 'external', 'eye', 'factor', 'factor_list', 'factor_nc', 'factor_terms', 'factorial', 'factorial2', 'factorint', 'factorrat', 'failing_assumptions', 'false', 'farthest_points', 'fcode', 'ff', 'fft', 'fibonacci', 'field', 'field_isomorphism', 'filldedent', 'finite_diff_weights', 'flatten', 'floor', 'fourier_series', 'fourier_transform', 'fps', 'frac', 'fraction', 'fresnelc', 'fresnels', 'fu', 'functions', 'fwht', 'gamma', 'gammasimp', 'gcd', 'gcd_list', 'gcd_terms', 'gcdex', 'gegenbauer', 'genocchi', 'geometry', 'get_contraction_structure', 'get_indices', 'gff', 'gff_list', 'glsl_code', 'grevlex', 'grlex', 'groebner', 'ground_roots', 'group', 'gruntz', 'hadamard_product', 'half_gcdex', 'hankel1', 'hankel2', 'hankel_transform', 'harmonic', 'has_dups', 'has_variety', 'hermite', 'hermite_poly', 'hessian', 'hn1', 'hn2', 'homogeneous_order', 'horner', 'hyper', 'hyperexpand', 'hypersimilar', 'hypersimp', 'idiff', 'ifft', 'ifwht', 'igcd', 'igrevlex', 'igrlex', 'ilcm', 'ilex', 'im', 'imageset', 'init_printing', 'init_session', 'integer_log', 'integer_nthroot', 'integrals', 'integrate', 'interactive', 'interactive_traversal', 'interpolate', 'interpolating_poly', 'interpolating_spline', 'intersecting_product', 'intersection', 'intervals', 'intt', 'inv_quick', 'inverse_cosine_transform', 'inverse_fourier_transform', 'inverse_hankel_transform', 'inverse_laplace_transform', 'inverse_mellin_transform', 'inverse_mobius_transform', 'inverse_sine_transform', 'invert', 'is_abundant', 'is_amicable', 'is_convex', 'is_decreasing', 'is_deficient', 'is_increasing', 'is_mersenne_prime', 'is_monotonic', 'is_nthpow_residue', 'is_perfect', 'is_primitive_root', 'is_quad_residue', 'is_strictly_decreasing', 'is_strictly_increasing', 'is_zero_dimensional', 'isolate', 'isprime', 'itermonomials', 'jacobi', 'jacobi_normalized', 'jacobi_poly', 'jacobi_symbol', 'jn', 'jn_zeros', 'jordan_cell', 'jscode', 'julia_code', 'kronecker_product', 'kroneckersimp', 'laguerre', 'laguerre_poly', 'lambdify', 'laplace_transform', 'latex', 'lcm', 'lcm_list', 'legendre', 'legendre_poly', 'legendre_symbol', 'lerchphi', 'lex', 'li', 'limit', 'limit_seq', 'line_integrate', 'linear_eq_to_matrix', 'linsolve', 'list2numpy', 'ln', 'log', 'logcombine', 'loggamma', 'logic', 'lowergamma', 'lucas', 'maple_code', 'marcumq', 'mathematica_code', 'mathieuc', 'mathieucprime', 'mathieus', 'mathieusprime', 'mathml', 'matrices', 'matrix2numpy', 'matrix_multiply_elementwise', 'matrix_symbols', 'maximum', 'meijerg', 'mellin_transform', 'memoize_property', 'mersenne_prime_exponent', 'minimal_polynomial', 'minimum', 'minpoly', 'mobius', 'mobius_transform', 'mod_inverse', 'monic', 'motzkin', 'multigamma', 'multiline_latex', 'multinomial_coefficients', 'multipledispatch', 'multiplicity', 'n_order', 'nan', 'nextprime', 'nfloat', 'nonlinsolve', 'not_empty_in', 'npartitions', 'nroots', 'nsimplify', 'nsolve', 'nth_power_roots_poly', 'ntheory', 'nthroot_mod', 'ntt', 'numbered_symbols', 'numer', 'octave_code', 'ode_order', 'ones', 'oo', 'ord0', 'ordered', 'pager_print', 'parallel_poly_from_expr', 'parse_expr', 'parsing', 'partition', 'pde_separate', 'pde_separate_add', 'pde_separate_mul', 'pdiv', 'pdsolve', 'per', 'perfect_power', 'periodic_argument', 'periodicity', 'permutedims', 'pexquo', 'physics', 'pi', 'piecewise_fold', 'plot', 'plot_backends', 'plot_implicit', 'plot_parametric', 'plotting', 'polar_lift', 'polarify', 'pollard_pm1', 'pollard_rho', 'poly', 'poly_from_expr', 'polygamma', 'polylog', 'polys', 'posify', 'postfixes', 'postorder_traversal', 'powdenest', 'powsimp', 'pprint', 'pprint_try_use_unicode', 'pprint_use_unicode', 'pquo', 'prefixes', 'prem', 'preorder_traversal', 'pretty', 'pretty_print', 'preview', 'prevprime', 'prime', 'prime_decomp', 'prime_valuation', 'primefactors', 'primenu', 'primeomega', 'primepi', 'primerange', 'primitive', 'primitive_element', 'primitive_root', 'primorial', 'principal_branch', 'print_ccode', 'print_fcode', 'print_glsl', 'print_gtk', 'print_jscode', 'print_latex', 'print_maple_code', 'print_mathml', 'print_python', 'print_rcode', 'print_tree', 'printing', 'prod', 'product', 'proper_divisor_count', 'proper_divisors', 'public', 'pycode', 'python', 'quadratic_congruence', 'quadratic_residues', 'quo', 'rad', 'radsimp', 'randMatrix', 'random_poly', 'randprime', 'rational_interpolate', 'ratsimp', 'ratsimpmodprime', 'rcode', 'rcollect', 're', 'real_root', 'real_roots', 'reduce_abs_inequalities', 'reduce_abs_inequality', 'reduce_inequalities', 'reduced', 'reduced_totient', 'refine', 'refine_root', 'register_handler', 'release', 'rem', 'remove_handler', 'reshape', 'residue', 'resultant', 'rf', 'riemann_xi', 'ring', 'root', 'rootof', 'roots', 'rot_axis1', 'rot_axis2', 'rot_axis3', 'rotations', 'round_two', 'rsolve', 'rsolve_hyper', 'rsolve_poly', 'rsolve_ratio', 'rust_code', 'satisfiable', 'sec', 'sech', 'separatevars', 'sequence', 'series', 'seterr', 'sets', 'sfield', 'shape', 'sieve', 'sift', 'sign', 'signsimp', 'simplify', 'simplify_logic', 'sin', 'sinc', 'sine_transform', 'singularities', 'singularityintegrate', 'sinh', 'solve', 'solve_linear', 'solve_linear_system', 'solve_linear_system_LU', 'solve_poly_inequality', 'solve_poly_system', 'solve_rational_inequalities', 'solve_triangulated', 'solve_undetermined_coeffs', 'solve_univariate_inequality', 'solvers', 'solveset', 'source', 'sqf', 'sqf_list', 'sqf_norm', 'sqf_part', 'sqrt', 'sqrt_mod', 'sqrt_mod_iter', 'sqrtdenest', 'srepr', 'sring', 'sstr', 'sstrrepr', 'stationary_points', 'stieltjes', 'strategies', 'sturm', 'subfactorial', 'subresultants', 'subsets', 'substitution', 'summation', 'swinnerton_dyer_poly', 'symarray', 'symbols', 'symmetric_poly', 'symmetrize', 'sympify', 'take', 'tan', 'tanh', 'tensor', 'tensorcontraction', 'tensordiagonal', 'tensorproduct', 'terms_gcd', 'test', 'testing', 'textplot', 'threaded', 'timed', 'to_cnf', 'to_dnf', 'to_nnf', 'to_number_field', 'together', 'topological_sort', 'total_degree', 'totient', 'trace', 'trailing', 'transpose', 'tribonacci', 'trigamma', 'trigsimp', 'true', 'trunc', 'unbranched_argument', 'unflatten', 'unpolarify', 'uppergamma', 'use', 'utilities', 'var', 'variations', 'vectorize', 'vfield', 'viete', 'vring', 'wronskian', 'xfield', 'xring', 'xthreaded', 'yn', 'zeros', 'zeta', 'zoo']\n"
     ]
    }
   ],
   "source": [
    "import sympy\n",
    "print(dir(sympy))"
   ]
  },
  {
   "cell_type": "markdown",
   "id": "05caa022",
   "metadata": {},
   "source": [
    "__Instead of writing sym for every time we can import all the functions of sympy using * operator__"
   ]
  },
  {
   "cell_type": "code",
   "execution_count": 15,
   "id": "6c6cedb1",
   "metadata": {},
   "outputs": [],
   "source": [
    "from sympy import *\n",
    "from sympy.abc import *"
   ]
  },
  {
   "cell_type": "markdown",
   "id": "bbd005fb",
   "metadata": {},
   "source": [
    "## Substitution\n",
    "One of the most common things you might want to do with a mathematical expression is substitution. Substitution replaces all instances of something in an expression with something else. It is done using the `subs` method. "
   ]
  },
  {
   "cell_type": "code",
   "execution_count": 19,
   "id": "5a8443e6",
   "metadata": {},
   "outputs": [
    {
     "data": {
      "text/latex": [
       "$\\displaystyle x^{3} + 2 x^{2} + 4 x + y$"
      ],
      "text/plain": [
       "x**3 + 2*x**2 + 4*x + y"
      ]
     },
     "execution_count": 19,
     "metadata": {},
     "output_type": "execute_result"
    }
   ],
   "source": [
    "expr = x**3 + 2*x**2 + 4*x + y\n",
    "expr"
   ]
  },
  {
   "cell_type": "code",
   "execution_count": 23,
   "id": "555accf5",
   "metadata": {},
   "outputs": [
    {
     "data": {
      "text/latex": [
       "$\\displaystyle y - 8$"
      ],
      "text/plain": [
       "y - 8"
      ]
     },
     "execution_count": 23,
     "metadata": {},
     "output_type": "execute_result"
    }
   ],
   "source": [
    "expr.subs(x, -2)"
   ]
  },
  {
   "cell_type": "markdown",
   "id": "7aafa25d",
   "metadata": {},
   "source": [
    "## Converting Strings to SymPy Expressions\n",
    "The `sympify` function (that’s sympify, not to be confused with simplify) can be used to convert strings into SymPy expressions."
   ]
  },
  {
   "cell_type": "code",
   "execution_count": 24,
   "id": "b3712a5e",
   "metadata": {},
   "outputs": [
    {
     "data": {
      "text/latex": [
       "$\\displaystyle x^{2} + 3 x - \\frac{1}{2}$"
      ],
      "text/plain": [
       "x**2 + 3*x - 1/2"
      ]
     },
     "execution_count": 24,
     "metadata": {},
     "output_type": "execute_result"
    }
   ],
   "source": [
    "str_expr = \"x**2 + 3*x - 1/2\"\n",
    "expr = sympify(str_expr)\n",
    "expr"
   ]
  },
  {
   "cell_type": "code",
   "execution_count": 25,
   "id": "7118cfa5",
   "metadata": {},
   "outputs": [
    {
     "data": {
      "text/latex": [
       "$\\displaystyle \\frac{19}{2}$"
      ],
      "text/plain": [
       "19/2"
      ]
     },
     "execution_count": 25,
     "metadata": {},
     "output_type": "execute_result"
    }
   ],
   "source": [
    "expr.subs(x, 2)"
   ]
  },
  {
   "cell_type": "markdown",
   "id": "37e3d0bd",
   "metadata": {},
   "source": [
    "## evalf\n",
    "To evaluate a numerical expression into a floating point number, use `evalf`."
   ]
  },
  {
   "cell_type": "code",
   "execution_count": 34,
   "id": "0c21daf5",
   "metadata": {},
   "outputs": [
    {
     "data": {
      "text/plain": [
       "(3.87298, 3.87298)"
      ]
     },
     "execution_count": 34,
     "metadata": {},
     "output_type": "execute_result"
    }
   ],
   "source": [
    "expr = sqrt(15)\n",
    "expr1 = root(15, 2)\n",
    "round(expr.evalf(),5), round(expr1.evalf(),5)"
   ]
  },
  {
   "cell_type": "markdown",
   "id": "1a0dee90",
   "metadata": {},
   "source": [
    "## simplify \n",
    "SymPy has dozens of functions to perform various kinds of simplification. There is also one general function called simplify() that attempts to apply all of these functions in an intelligent way to arrive at the simplest form of an expression."
   ]
  },
  {
   "cell_type": "code",
   "execution_count": 35,
   "id": "1b900119",
   "metadata": {},
   "outputs": [
    {
     "data": {
      "text/latex": [
       "$\\displaystyle \\sin^{2}{\\left(x \\right)} + \\cos^{2}{\\left(x \\right)}$"
      ],
      "text/plain": [
       "sin(x)**2 + cos(x)**2"
      ]
     },
     "execution_count": 35,
     "metadata": {},
     "output_type": "execute_result"
    }
   ],
   "source": [
    "expr = sin(x)**2 + cos(x)**2\n",
    "expr"
   ]
  },
  {
   "cell_type": "code",
   "execution_count": 37,
   "id": "17c4bba3",
   "metadata": {},
   "outputs": [
    {
     "data": {
      "text/latex": [
       "$\\displaystyle 1$"
      ],
      "text/plain": [
       "1"
      ]
     },
     "execution_count": 37,
     "metadata": {},
     "output_type": "execute_result"
    }
   ],
   "source": [
    "simplify(expr)"
   ]
  },
  {
   "cell_type": "markdown",
   "id": "21386a26",
   "metadata": {},
   "source": [
    "## expand\n",
    "`expand()` is one of the most common simplification functions in SymPy. Although it has a lot of scopes, for now, we will consider its function in expanding polynomial expressions."
   ]
  },
  {
   "cell_type": "code",
   "execution_count": 76,
   "id": "5d0db606",
   "metadata": {},
   "outputs": [
    {
     "data": {
      "text/latex": [
       "$\\displaystyle x^{2} - 2 x y + y^{2}$"
      ],
      "text/plain": [
       "x**2 - 2*x*y + y**2"
      ]
     },
     "execution_count": 76,
     "metadata": {},
     "output_type": "execute_result"
    }
   ],
   "source": [
    "expr = (x-y)**2\n",
    "expand(expr)"
   ]
  },
  {
   "cell_type": "markdown",
   "id": "d8c486e2",
   "metadata": {},
   "source": [
    "## factor\n",
    "`factor()` takes a polynomial and factors it into irreducible factors over the rational numbers."
   ]
  },
  {
   "cell_type": "code",
   "execution_count": 32,
   "id": "729fa3cf",
   "metadata": {},
   "outputs": [
    {
     "data": {
      "text/latex": [
       "$\\displaystyle x^{2} z + 4 x y z + 4 y^{2} z$"
      ],
      "text/plain": [
       "x**2*z + 4*x*y*z + 4*y**2*z"
      ]
     },
     "execution_count": 32,
     "metadata": {},
     "output_type": "execute_result"
    }
   ],
   "source": [
    "expr = (x**2*z + 4*x*y*z + 4*y**2*z)\n",
    "expr"
   ]
  },
  {
   "cell_type": "code",
   "execution_count": 35,
   "id": "b691eb21",
   "metadata": {},
   "outputs": [
    {
     "data": {
      "text/latex": [
       "$\\displaystyle z \\left(x + 2 y\\right)^{2}$"
      ],
      "text/plain": [
       "z*(x + 2*y)**2"
      ]
     },
     "execution_count": 35,
     "metadata": {},
     "output_type": "execute_result"
    }
   ],
   "source": [
    "factor(expr)"
   ]
  },
  {
   "cell_type": "markdown",
   "id": "cab1fea1",
   "metadata": {},
   "source": [
    "## collect\n",
    "`collect()` collects common powers of a term in an expression."
   ]
  },
  {
   "cell_type": "code",
   "execution_count": 78,
   "id": "12bd3220",
   "metadata": {},
   "outputs": [
    {
     "data": {
      "text/latex": [
       "$\\displaystyle x^{3} - x^{2} z + 2 x^{2} + x y + x - 3$"
      ],
      "text/plain": [
       "x**3 - x**2*z + 2*x**2 + x*y + x - 3"
      ]
     },
     "execution_count": 78,
     "metadata": {},
     "output_type": "execute_result"
    }
   ],
   "source": [
    "expr = x*y + x - 3 + 2*x**2 - z*x**2 + x**3\n",
    "expr"
   ]
  },
  {
   "cell_type": "code",
   "execution_count": 82,
   "id": "d45fe1ae",
   "metadata": {},
   "outputs": [
    {
     "data": {
      "text/latex": [
       "$\\displaystyle x^{3} + x^{2} \\cdot \\left(2 - z\\right) + x \\left(y + 1\\right) - 3$"
      ],
      "text/plain": [
       "x**3 + x**2*(2 - z) + x*(y + 1) - 3"
      ]
     },
     "execution_count": 82,
     "metadata": {},
     "output_type": "execute_result"
    }
   ],
   "source": [
    "collect(expr, x)"
   ]
  },
  {
   "cell_type": "markdown",
   "id": "20f42032",
   "metadata": {},
   "source": [
    "## cancel\n",
    "\n",
    "`cancel` takes input of rational function and put it down to simple mathematics cancelation."
   ]
  },
  {
   "cell_type": "code",
   "execution_count": 85,
   "id": "99071a59",
   "metadata": {},
   "outputs": [
    {
     "data": {
      "text/latex": [
       "$\\displaystyle \\frac{x^{2} - y^{2}}{x + y}$"
      ],
      "text/plain": [
       "(x**2 - y**2)/(x + y)"
      ]
     },
     "execution_count": 85,
     "metadata": {},
     "output_type": "execute_result"
    }
   ],
   "source": [
    "expr = (x**2 - y**2) / (x+y)\n",
    "expr"
   ]
  },
  {
   "cell_type": "code",
   "execution_count": 42,
   "id": "f3899137",
   "metadata": {},
   "outputs": [
    {
     "data": {
      "text/latex": [
       "$\\displaystyle x - y$"
      ],
      "text/plain": [
       "x - y"
      ]
     },
     "execution_count": 42,
     "metadata": {},
     "output_type": "execute_result"
    }
   ],
   "source": [
    "cancel(expr)"
   ]
  },
  {
   "cell_type": "code",
   "execution_count": 44,
   "id": "7b57589e",
   "metadata": {},
   "outputs": [
    {
     "data": {
      "text/latex": [
       "$\\displaystyle \\frac{\\frac{3 x}{2} - 2}{x - 4} + \\frac{1}{x}$"
      ],
      "text/plain": [
       "(3*x/2 - 2)/(x - 4) + 1/x"
      ]
     },
     "execution_count": 44,
     "metadata": {},
     "output_type": "execute_result"
    }
   ],
   "source": [
    "expr = 1/x + (3*x/2 - 2)/(x-4)\n",
    "expr"
   ]
  },
  {
   "cell_type": "code",
   "execution_count": 45,
   "id": "98ef6995",
   "metadata": {},
   "outputs": [
    {
     "data": {
      "text/latex": [
       "$\\displaystyle \\frac{3 x^{2} - 2 x - 8}{2 x^{2} - 8 x}$"
      ],
      "text/plain": [
       "(3*x**2 - 2*x - 8)/(2*x**2 - 8*x)"
      ]
     },
     "execution_count": 45,
     "metadata": {},
     "output_type": "execute_result"
    }
   ],
   "source": [
    "cancel(expr)"
   ]
  },
  {
   "cell_type": "markdown",
   "id": "5f811502",
   "metadata": {},
   "source": [
    "## trigsimp\n",
    "\n",
    "`trigsimp` reduces expression by using known trig identities<br>\n",
    "Note: works on hyperbolic trig functions"
   ]
  },
  {
   "cell_type": "code",
   "execution_count": 46,
   "id": "91a17b18",
   "metadata": {},
   "outputs": [
    {
     "data": {
      "text/latex": [
       "$\\displaystyle \\sinh^{2}{\\left(x \\right)} + \\cosh^{2}{\\left(x \\right)}$"
      ],
      "text/plain": [
       "sinh(x)**2 + cosh(x)**2"
      ]
     },
     "execution_count": 46,
     "metadata": {},
     "output_type": "execute_result"
    }
   ],
   "source": [
    "expr = cosh(x)**2 + sinh(x)**2\n",
    "expr"
   ]
  },
  {
   "cell_type": "code",
   "execution_count": 47,
   "id": "a038eefc",
   "metadata": {},
   "outputs": [
    {
     "data": {
      "text/latex": [
       "$\\displaystyle \\cosh{\\left(2 x \\right)}$"
      ],
      "text/plain": [
       "cosh(2*x)"
      ]
     },
     "execution_count": 47,
     "metadata": {},
     "output_type": "execute_result"
    }
   ],
   "source": [
    "trigsimp(expr)"
   ]
  },
  {
   "cell_type": "code",
   "execution_count": 88,
   "id": "c7ca5466",
   "metadata": {},
   "outputs": [
    {
     "data": {
      "text/latex": [
       "$\\displaystyle \\sin{\\left(2 \\theta \\right)}$"
      ],
      "text/plain": [
       "sin(2*theta)"
      ]
     },
     "execution_count": 88,
     "metadata": {},
     "output_type": "execute_result"
    }
   ],
   "source": [
    "expr = sin(2*theta)\n",
    "expr"
   ]
  },
  {
   "cell_type": "markdown",
   "id": "5ec714ec",
   "metadata": {},
   "source": [
    "## expand_trig"
   ]
  },
  {
   "cell_type": "code",
   "execution_count": 90,
   "id": "90be36a8",
   "metadata": {},
   "outputs": [
    {
     "data": {
      "text/latex": [
       "$\\displaystyle \\tan{\\left(A + B \\right)}$"
      ],
      "text/plain": [
       "tan(A + B)"
      ]
     },
     "execution_count": 90,
     "metadata": {},
     "output_type": "execute_result"
    }
   ],
   "source": [
    "expr = tan(A+B)\n",
    "expr"
   ]
  },
  {
   "cell_type": "code",
   "execution_count": 91,
   "id": "a76cf244",
   "metadata": {},
   "outputs": [
    {
     "data": {
      "text/latex": [
       "$\\displaystyle \\frac{\\tan{\\left(A \\right)} + \\tan{\\left(B \\right)}}{- \\tan{\\left(A \\right)} \\tan{\\left(B \\right)} + 1}$"
      ],
      "text/plain": [
       "(tan(A) + tan(B))/(-tan(A)*tan(B) + 1)"
      ]
     },
     "execution_count": 91,
     "metadata": {},
     "output_type": "execute_result"
    }
   ],
   "source": [
    "expand_trig(expr)"
   ]
  },
  {
   "cell_type": "code",
   "execution_count": 92,
   "id": "f79b1d95",
   "metadata": {},
   "outputs": [
    {
     "data": {
      "text/latex": [
       "$\\displaystyle \\sin{\\left(\\alpha \\right)} \\cos{\\left(\\beta \\right)} + \\sin{\\left(\\beta \\right)} \\cos{\\left(\\alpha \\right)}$"
      ],
      "text/plain": [
       "sin(alpha)*cos(beta) + sin(beta)*cos(alpha)"
      ]
     },
     "execution_count": 92,
     "metadata": {},
     "output_type": "execute_result"
    }
   ],
   "source": [
    "expand_trig((sin(alpha+beta)))"
   ]
  },
  {
   "cell_type": "markdown",
   "id": "c7fd1331",
   "metadata": {},
   "source": [
    "## Eq"
   ]
  },
  {
   "cell_type": "code",
   "execution_count": 52,
   "id": "469aa373",
   "metadata": {},
   "outputs": [
    {
     "data": {
      "text/latex": [
       "$\\displaystyle \\sin{\\left(2 \\theta \\right)} = 2 \\sin{\\left(\\theta \\right)} \\cos{\\left(\\theta \\right)}$"
      ],
      "text/plain": [
       "Eq(sin(2*theta), 2*sin(theta)*cos(theta))"
      ]
     },
     "execution_count": 52,
     "metadata": {},
     "output_type": "execute_result"
    }
   ],
   "source": [
    "Eq(expr, expand_trig(expr))"
   ]
  },
  {
   "cell_type": "code",
   "execution_count": 40,
   "id": "86c3ed6c",
   "metadata": {},
   "outputs": [
    {
     "data": {
      "text/latex": [
       "$\\displaystyle x + y = 5$"
      ],
      "text/plain": [
       "Eq(x + y, 5)"
      ]
     },
     "execution_count": 40,
     "metadata": {},
     "output_type": "execute_result"
    }
   ],
   "source": [
    "Eq(x+y, 5)"
   ]
  },
  {
   "cell_type": "markdown",
   "id": "bb077be4",
   "metadata": {},
   "source": [
    "## powsimp"
   ]
  },
  {
   "cell_type": "code",
   "execution_count": 94,
   "id": "13d8fb25",
   "metadata": {},
   "outputs": [
    {
     "data": {
      "text/latex": [
       "$\\displaystyle x^{5}$"
      ],
      "text/plain": [
       "x**5"
      ]
     },
     "execution_count": 94,
     "metadata": {},
     "output_type": "execute_result"
    }
   ],
   "source": [
    "expr = x**2 * x**3\n",
    "expr"
   ]
  },
  {
   "cell_type": "code",
   "execution_count": 95,
   "id": "7394cb17",
   "metadata": {},
   "outputs": [
    {
     "data": {
      "text/latex": [
       "$\\displaystyle x^{3} x^{a}$"
      ],
      "text/plain": [
       "x**3*x**a"
      ]
     },
     "execution_count": 95,
     "metadata": {},
     "output_type": "execute_result"
    }
   ],
   "source": [
    "expr = x**3 * x**a\n",
    "expr"
   ]
  },
  {
   "cell_type": "code",
   "execution_count": 55,
   "id": "81593157",
   "metadata": {},
   "outputs": [
    {
     "data": {
      "text/latex": [
       "$\\displaystyle x^{a + 3}$"
      ],
      "text/plain": [
       "x**(a + 3)"
      ]
     },
     "execution_count": 55,
     "metadata": {},
     "output_type": "execute_result"
    }
   ],
   "source": [
    "powsimp(expr)"
   ]
  },
  {
   "cell_type": "code",
   "execution_count": 60,
   "id": "c608daa7",
   "metadata": {},
   "outputs": [
    {
     "data": {
      "text/latex": [
       "$\\displaystyle y^{x} y^{- y}$"
      ],
      "text/plain": [
       "y**x*y**(-y)"
      ]
     },
     "execution_count": 60,
     "metadata": {},
     "output_type": "execute_result"
    }
   ],
   "source": [
    "expand_power_exp(y**(x-y))"
   ]
  },
  {
   "cell_type": "markdown",
   "id": "5b4066ac",
   "metadata": {},
   "source": [
    "## log "
   ]
  },
  {
   "cell_type": "code",
   "execution_count": 61,
   "id": "25efb7b1",
   "metadata": {},
   "outputs": [
    {
     "data": {
      "text/latex": [
       "$\\displaystyle \\log{\\left(x \\right)}$"
      ],
      "text/plain": [
       "log(x)"
      ]
     },
     "execution_count": 61,
     "metadata": {},
     "output_type": "execute_result"
    }
   ],
   "source": [
    "ln(x)"
   ]
  },
  {
   "cell_type": "code",
   "execution_count": 62,
   "id": "bbfbbc78",
   "metadata": {},
   "outputs": [
    {
     "data": {
      "text/latex": [
       "$\\displaystyle \\log{\\left(y \\right)}$"
      ],
      "text/plain": [
       "log(y)"
      ]
     },
     "execution_count": 62,
     "metadata": {},
     "output_type": "execute_result"
    }
   ],
   "source": [
    "log(y)"
   ]
  },
  {
   "cell_type": "markdown",
   "id": "a3af8144",
   "metadata": {},
   "source": [
    "## factorial\n",
    "\n",
    "$0! = 1$<br>\n",
    "$0! + 0! + 0! + 0! + 0! = (1 + 1 + 1 + 1 + 1) ! = 5! = 120$"
   ]
  },
  {
   "cell_type": "code",
   "execution_count": 65,
   "id": "d35a4817",
   "metadata": {},
   "outputs": [
    {
     "data": {
      "text/latex": [
       "$\\displaystyle 120$"
      ],
      "text/plain": [
       "120"
      ]
     },
     "execution_count": 65,
     "metadata": {},
     "output_type": "execute_result"
    }
   ],
   "source": [
    "factorial(factorial(0)+factorial(0)+factorial(0)+factorial(0)+factorial(0))"
   ]
  },
  {
   "cell_type": "code",
   "execution_count": 45,
   "id": "75f35d26",
   "metadata": {},
   "outputs": [
    {
     "data": {
      "text/latex": [
       "$\\displaystyle x! = x!$"
      ],
      "text/plain": [
       "Eq(factorial(x), factorial(x))"
      ]
     },
     "execution_count": 45,
     "metadata": {},
     "output_type": "execute_result"
    }
   ],
   "source": [
    "Eq(factorial(x), factorial(x), evaluate= False)"
   ]
  },
  {
   "cell_type": "markdown",
   "id": "00d32af6",
   "metadata": {},
   "source": [
    "## rational"
   ]
  },
  {
   "cell_type": "code",
   "execution_count": 72,
   "id": "014ead49",
   "metadata": {},
   "outputs": [
    {
     "data": {
      "text/latex": [
       "$\\displaystyle \\frac{1}{2}$"
      ],
      "text/plain": [
       "1/2"
      ]
     },
     "execution_count": 72,
     "metadata": {},
     "output_type": "execute_result"
    }
   ],
   "source": [
    "Rational(1,2)"
   ]
  },
  {
   "cell_type": "code",
   "execution_count": 43,
   "id": "fb1d7fd8",
   "metadata": {},
   "outputs": [
    {
     "data": {
      "text/latex": [
       "$\\displaystyle \\frac{p}{q}$"
      ],
      "text/plain": [
       "p/q"
      ]
     },
     "execution_count": 43,
     "metadata": {},
     "output_type": "execute_result"
    }
   ],
   "source": [
    "sympify('p/q')"
   ]
  },
  {
   "cell_type": "code",
   "execution_count": 97,
   "id": "dc21d842",
   "metadata": {},
   "outputs": [
    {
     "data": {
      "text/latex": [
       "$\\displaystyle \\frac{3}{4} + \\frac{7}{3} = \\frac{37}{12}$"
      ],
      "text/plain": [
       "Eq(3/4 + 7/3, 37/12)"
      ]
     },
     "execution_count": 97,
     "metadata": {},
     "output_type": "execute_result"
    }
   ],
   "source": [
    "Eq(sympify('7/3 + 3/4', evaluate= False), sympify('7/3 + 3/4'), evaluate = False)"
   ]
  },
  {
   "cell_type": "code",
   "execution_count": 48,
   "id": "45fdb6ff",
   "metadata": {},
   "outputs": [],
   "source": [
    "a  = tan(theta)/ (1 - cot(theta))"
   ]
  },
  {
   "cell_type": "code",
   "execution_count": 49,
   "id": "197663c6",
   "metadata": {},
   "outputs": [],
   "source": [
    "b = cot(theta) / (1 - tan(theta))"
   ]
  },
  {
   "cell_type": "code",
   "execution_count": 50,
   "id": "f98f2be8",
   "metadata": {},
   "outputs": [
    {
     "data": {
      "text/latex": [
       "$\\displaystyle \\frac{\\tan{\\left(\\theta \\right)}}{1 - \\cot{\\left(\\theta \\right)}} + \\frac{\\cot{\\left(\\theta \\right)}}{1 - \\tan{\\left(\\theta \\right)}}$"
      ],
      "text/plain": [
       "tan(theta)/(1 - cot(theta)) + cot(theta)/(1 - tan(theta))"
      ]
     },
     "execution_count": 50,
     "metadata": {},
     "output_type": "execute_result"
    }
   ],
   "source": [
    "a + b"
   ]
  },
  {
   "cell_type": "code",
   "execution_count": 92,
   "id": "767da1e5",
   "metadata": {},
   "outputs": [
    {
     "data": {
      "text/latex": [
       "$\\displaystyle \\frac{\\tan{\\left(\\theta \\right)}}{1 - \\cot{\\left(\\theta \\right)}} + \\frac{\\cot{\\left(\\theta \\right)}}{1 - \\tan{\\left(\\theta \\right)}} = \\tan{\\left(\\theta \\right)} + \\cot{\\left(\\theta \\right)} + 1$"
      ],
      "text/plain": [
       "Eq(tan(theta)/(1 - cot(theta)) + cot(theta)/(1 - tan(theta)), tan(theta) + cot(theta) + 1)"
      ]
     },
     "execution_count": 92,
     "metadata": {},
     "output_type": "execute_result"
    }
   ],
   "source": [
    "Eq(a+b, 1 + tan(theta)+ cot(theta))"
   ]
  },
  {
   "cell_type": "code",
   "execution_count": 94,
   "id": "0ee15453",
   "metadata": {},
   "outputs": [
    {
     "data": {
      "text/latex": [
       "$\\displaystyle \\tan{\\left(\\theta \\right)} + 1 + \\frac{1}{\\tan{\\left(\\theta \\right)}} = \\tan{\\left(\\theta \\right)} + \\cot{\\left(\\theta \\right)} + 1$"
      ],
      "text/plain": [
       "Eq(tan(theta) + 1 + 1/tan(theta), tan(theta) + cot(theta) + 1)"
      ]
     },
     "execution_count": 94,
     "metadata": {},
     "output_type": "execute_result"
    }
   ],
   "source": [
    "Eq(trigsimp(a+b), 1 + tan(theta)+ cot(theta))"
   ]
  },
  {
   "cell_type": "code",
   "execution_count": 106,
   "id": "84e4be6e",
   "metadata": {},
   "outputs": [
    {
     "data": {
      "text/latex": [
       "$\\displaystyle \\frac{1}{\\cos^{2}{\\left(\\theta \\right)}} + \\frac{1}{\\sin^{2}{\\left(\\theta \\right)}}$"
      ],
      "text/plain": [
       "cos(theta)**(-2) + sin(theta)**(-2)"
      ]
     },
     "execution_count": 106,
     "metadata": {},
     "output_type": "execute_result"
    }
   ],
   "source": [
    "expr = (1/sin(theta)**2 + 1/cos(theta)**2)\n",
    "expr"
   ]
  },
  {
   "cell_type": "code",
   "execution_count": 111,
   "id": "fcb7511c",
   "metadata": {},
   "outputs": [
    {
     "data": {
      "text/latex": [
       "$\\displaystyle \\frac{\\sin^{2}{\\left(\\theta \\right)} + \\cos^{2}{\\left(\\theta \\right)}}{\\sin^{2}{\\left(\\theta \\right)} \\cos^{2}{\\left(\\theta \\right)}}$"
      ],
      "text/plain": [
       "(sin(theta)**2 + cos(theta)**2)/(sin(theta)**2*cos(theta)**2)"
      ]
     },
     "execution_count": 111,
     "metadata": {},
     "output_type": "execute_result"
    }
   ],
   "source": [
    "factor(expr)"
   ]
  },
  {
   "cell_type": "code",
   "execution_count": 105,
   "id": "009248ae",
   "metadata": {},
   "outputs": [
    {
     "data": {
      "text/latex": [
       "$\\displaystyle 2 \\sqrt{2} \\sqrt{- \\frac{1}{\\cos{\\left(4 \\theta \\right)} - 1}}$"
      ],
      "text/plain": [
       "2*sqrt(2)*sqrt(-1/(cos(4*theta) - 1))"
      ]
     },
     "execution_count": 105,
     "metadata": {},
     "output_type": "execute_result"
    }
   ],
   "source": [
    "(trigsimp(expr))"
   ]
  },
  {
   "cell_type": "markdown",
   "id": "26e4bc95",
   "metadata": {},
   "source": [
    "## Calculus"
   ]
  },
  {
   "cell_type": "code",
   "execution_count": 116,
   "id": "6c8deed0",
   "metadata": {},
   "outputs": [
    {
     "data": {
      "text/latex": [
       "$\\displaystyle \\sqrt[15]{x}$"
      ],
      "text/plain": [
       "x**(1/15)"
      ]
     },
     "execution_count": 116,
     "metadata": {},
     "output_type": "execute_result"
    }
   ],
   "source": [
    "root(root(x,5),3)"
   ]
  },
  {
   "cell_type": "code",
   "execution_count": 100,
   "id": "8cbd45b7",
   "metadata": {},
   "outputs": [
    {
     "data": {
      "text/latex": [
       "$\\displaystyle \\left(x^{2} + 4 x + 6\\right)^{5}$"
      ],
      "text/plain": [
       "(x**2 + 4*x + 6)**5"
      ]
     },
     "execution_count": 100,
     "metadata": {},
     "output_type": "execute_result"
    }
   ],
   "source": [
    "expr = (x**2 + 4*x + 6)**5\n",
    "expr"
   ]
  },
  {
   "cell_type": "markdown",
   "id": "8e694bb7",
   "metadata": {},
   "source": [
    "### Diffrential"
   ]
  },
  {
   "cell_type": "code",
   "execution_count": 106,
   "id": "b9b016d2",
   "metadata": {},
   "outputs": [
    {
     "data": {
      "text/latex": [
       "$\\displaystyle \\frac{d}{d x} \\left(x^{2} + 4 x + 6\\right)^{5} = 10 \\left(x + 2\\right) \\left(x^{2} + 4 x + 6\\right)^{4}$"
      ],
      "text/plain": [
       "Eq(Derivative((x**2 + 4*x + 6)**5, x), 10*(x + 2)*(x**2 + 4*x + 6)**4)"
      ]
     },
     "execution_count": 106,
     "metadata": {},
     "output_type": "execute_result"
    }
   ],
   "source": [
    "Eq(Derivative(expr,x), factor(diff(expr, x)))"
   ]
  },
  {
   "cell_type": "code",
   "execution_count": 54,
   "id": "62618a7e",
   "metadata": {},
   "outputs": [
    {
     "data": {
      "text/latex": [
       "$\\displaystyle \\frac{d}{d x} \\tan{\\left(3 x \\right)} = 3 \\left(\\tan^{2}{\\left(3 x \\right)} + 1\\right)$"
      ],
      "text/plain": [
       "Eq(Derivative(tan(3*x), x), 3*(tan(3*x)**2 + 1))"
      ]
     },
     "execution_count": 54,
     "metadata": {},
     "output_type": "execute_result"
    }
   ],
   "source": [
    "Eq(Derivative(tan(3*x),x), factor(diff(tan(3*x),x)))"
   ]
  },
  {
   "cell_type": "markdown",
   "id": "4af005ec",
   "metadata": {},
   "source": [
    "## Interagation"
   ]
  },
  {
   "cell_type": "code",
   "execution_count": 55,
   "id": "1509b9bc",
   "metadata": {},
   "outputs": [
    {
     "data": {
      "text/latex": [
       "$\\displaystyle \\sin^{3}{\\left(x \\right)}$"
      ],
      "text/plain": [
       "sin(x)**3"
      ]
     },
     "execution_count": 55,
     "metadata": {},
     "output_type": "execute_result"
    }
   ],
   "source": [
    "expr= sin(x)**3\n",
    "expr"
   ]
  },
  {
   "cell_type": "code",
   "execution_count": 56,
   "id": "0be41693",
   "metadata": {},
   "outputs": [
    {
     "data": {
      "text/latex": [
       "$\\displaystyle \\int \\sin^{3}{\\left(x \\right)}\\, dx$"
      ],
      "text/plain": [
       "Integral(sin(x)**3, x)"
      ]
     },
     "execution_count": 56,
     "metadata": {},
     "output_type": "execute_result"
    }
   ],
   "source": [
    "Integral(expr, x)"
   ]
  },
  {
   "cell_type": "code",
   "execution_count": 57,
   "id": "c472ff64",
   "metadata": {},
   "outputs": [
    {
     "data": {
      "text/latex": [
       "$\\displaystyle \\int \\sin^{3}{\\left(x \\right)}\\, dx = \\frac{\\cos^{3}{\\left(x \\right)}}{3} - \\cos{\\left(x \\right)}$"
      ],
      "text/plain": [
       "Eq(Integral(sin(x)**3, x), cos(x)**3/3 - cos(x))"
      ]
     },
     "execution_count": 57,
     "metadata": {},
     "output_type": "execute_result"
    }
   ],
   "source": [
    "Eq(Integral(expr, x), trigsimp(integrate(expr, x)))"
   ]
  },
  {
   "cell_type": "code",
   "execution_count": 58,
   "id": "6887e02d",
   "metadata": {},
   "outputs": [
    {
     "data": {
      "text/latex": [
       "$\\displaystyle - \\frac{3 \\cos{\\left(x \\right)}}{4} + \\frac{\\cos{\\left(3 x \\right)}}{12}$"
      ],
      "text/plain": [
       "-3*cos(x)/4 + cos(3*x)/12"
      ]
     },
     "execution_count": 58,
     "metadata": {},
     "output_type": "execute_result"
    }
   ],
   "source": [
    "expr = -3*cos(x)/ 4\n",
    "simplify(expr + cos(3*x)/ 12)"
   ]
  },
  {
   "cell_type": "code",
   "execution_count": 139,
   "id": "9639a87e",
   "metadata": {},
   "outputs": [
    {
     "data": {
      "text/latex": [
       "$\\displaystyle \\int e^{- x}\\, dx$"
      ],
      "text/plain": [
       "Integral(exp(-x), x)"
      ]
     },
     "execution_count": 139,
     "metadata": {},
     "output_type": "execute_result"
    }
   ],
   "source": [
    "Integral(exp(-x))"
   ]
  },
  {
   "cell_type": "code",
   "execution_count": 59,
   "id": "ecf7dc44",
   "metadata": {},
   "outputs": [
    {
     "data": {
      "text/latex": [
       "$\\displaystyle \\int\\limits_{0}^{\\infty} e^{- x}\\, dx = 1$"
      ],
      "text/plain": [
       "Eq(Integral(exp(-x), (x, 0, oo)), 1)"
      ]
     },
     "execution_count": 59,
     "metadata": {},
     "output_type": "execute_result"
    }
   ],
   "source": [
    "Eq(Integral(exp(-x), (x, 0, oo)), integrate(exp(-x), (x, 0, oo)))"
   ]
  },
  {
   "cell_type": "code",
   "execution_count": 60,
   "id": "89a991cb",
   "metadata": {},
   "outputs": [
    {
     "data": {
      "text/latex": [
       "$\\displaystyle \\sin^{2}{\\left(x \\right)}$"
      ],
      "text/plain": [
       "sin(x)**2"
      ]
     },
     "execution_count": 60,
     "metadata": {},
     "output_type": "execute_result"
    }
   ],
   "source": [
    "ex = sin(x)**2 \n",
    "ex"
   ]
  },
  {
   "cell_type": "code",
   "execution_count": 61,
   "id": "9e35d51a",
   "metadata": {},
   "outputs": [
    {
     "data": {
      "text/latex": [
       "$\\displaystyle \\frac{x}{2} - \\frac{\\sin{\\left(x \\right)} \\cos{\\left(x \\right)}}{2}$"
      ],
      "text/plain": [
       "x/2 - sin(x)*cos(x)/2"
      ]
     },
     "execution_count": 61,
     "metadata": {},
     "output_type": "execute_result"
    }
   ],
   "source": [
    "integrate(ex)"
   ]
  },
  {
   "cell_type": "markdown",
   "id": "3023b648",
   "metadata": {},
   "source": [
    "## Limits"
   ]
  },
  {
   "cell_type": "code",
   "execution_count": 109,
   "id": "e245445f",
   "metadata": {},
   "outputs": [
    {
     "data": {
      "text/latex": [
       "$\\displaystyle \\lim_{x \\to 0^+} \\frac{1}{x}$"
      ],
      "text/plain": [
       "Limit(1/x, x, 0)"
      ]
     },
     "execution_count": 109,
     "metadata": {},
     "output_type": "execute_result"
    }
   ],
   "source": [
    "Limit(1/x, x, 0,'+')"
   ]
  },
  {
   "cell_type": "code",
   "execution_count": 67,
   "id": "e5f695d3",
   "metadata": {},
   "outputs": [
    {
     "data": {
      "text/latex": [
       "$\\displaystyle \\lim_{y \\to 0^+} \\frac{1}{y} = \\infty$"
      ],
      "text/plain": [
       "Eq(Limit(1/y, y, 0), oo)"
      ]
     },
     "execution_count": 67,
     "metadata": {},
     "output_type": "execute_result"
    }
   ],
   "source": [
    "Eq(Limit(1/y, y, 0), limit(1/y, y, 0))"
   ]
  },
  {
   "cell_type": "markdown",
   "id": "cc9a9d3b",
   "metadata": {},
   "source": [
    "### solve"
   ]
  },
  {
   "cell_type": "code",
   "execution_count": 71,
   "id": "5d3077f3",
   "metadata": {},
   "outputs": [
    {
     "data": {
      "text/latex": [
       "$\\displaystyle c + q^{2} + w x$"
      ],
      "text/plain": [
       "c + q**2 + w*x"
      ]
     },
     "execution_count": 71,
     "metadata": {},
     "output_type": "execute_result"
    }
   ],
   "source": [
    "expr = q**2 + w*x + c\n",
    "expr"
   ]
  },
  {
   "cell_type": "code",
   "execution_count": 85,
   "id": "24a1282f",
   "metadata": {},
   "outputs": [
    {
     "data": {
      "text/latex": [
       "$\\displaystyle - \\frac{1}{x + 5} + \\frac{1}{x - 3} = \\frac{1}{6}$"
      ],
      "text/plain": [
       "Eq(-1/(x + 5) + 1/(x - 3), 1/6)"
      ]
     },
     "execution_count": 85,
     "metadata": {},
     "output_type": "execute_result"
    }
   ],
   "source": [
    "expr = Eq((1 / (x - 3)) - (1 / (x + 5)),Rational(1,6))\n",
    "expr"
   ]
  },
  {
   "cell_type": "code",
   "execution_count": 86,
   "id": "799be915",
   "metadata": {},
   "outputs": [
    {
     "data": {
      "text/latex": [
       "$\\displaystyle \\frac{8}{\\left(x - 3\\right) \\left(x + 5\\right)} = \\frac{1}{6}$"
      ],
      "text/plain": [
       "Eq(8/((x - 3)*(x + 5)), 1/6)"
      ]
     },
     "execution_count": 86,
     "metadata": {},
     "output_type": "execute_result"
    }
   ],
   "source": [
    "factor(expr)"
   ]
  },
  {
   "cell_type": "code",
   "execution_count": 87,
   "id": "d7eb2ffb",
   "metadata": {},
   "outputs": [
    {
     "data": {
      "text/plain": [
       "[-9, 7]"
      ]
     },
     "execution_count": 87,
     "metadata": {},
     "output_type": "execute_result"
    }
   ],
   "source": [
    "solve(factor(expr))"
   ]
  },
  {
   "cell_type": "code",
   "execution_count": 89,
   "id": "9db3f14e",
   "metadata": {},
   "outputs": [
    {
     "data": {
      "text/latex": [
       "$\\displaystyle 35 r^{2} + 19 r - 156 = 0$"
      ],
      "text/plain": [
       "Eq(35*r**2 + 19*r - 156, 0)"
      ]
     },
     "execution_count": 89,
     "metadata": {},
     "output_type": "execute_result"
    }
   ],
   "source": [
    "expr = Eq(35*r**2  + (84- 65)*r - 156, 0)\n",
    "expr"
   ]
  },
  {
   "cell_type": "code",
   "execution_count": 90,
   "id": "075df42c",
   "metadata": {},
   "outputs": [
    {
     "data": {
      "text/plain": [
       "[-12/5, 13/7]"
      ]
     },
     "execution_count": 90,
     "metadata": {},
     "output_type": "execute_result"
    }
   ],
   "source": [
    "solve(expr)"
   ]
  },
  {
   "cell_type": "code",
   "execution_count": 144,
   "id": "1e6c8064",
   "metadata": {},
   "outputs": [
    {
     "data": {
      "text/latex": [
       "$\\displaystyle 684$"
      ],
      "text/plain": [
       "684"
      ]
     },
     "execution_count": 144,
     "metadata": {},
     "output_type": "execute_result"
    }
   ],
   "source": [
    "p1 = sympify(\"4\", evaluate=False)\n",
    "p2 = sympify(\"0.5 * 10**2\", evaluate = False) / p1 \n",
    "p3 = root(sympify('243 + 382', evaluate=False),2)\n",
    "sympify(\"4 + Rational(1,2)*(10**2) / root(243 + 382, 2) * 2**10\", evaluate=True)/ sympify('((60/100) * (400/8))/10', evaluate=False)"
   ]
  },
  {
   "cell_type": "code",
   "execution_count": 137,
   "id": "da612d6a",
   "metadata": {},
   "outputs": [
    {
     "data": {
      "text/latex": [
       "$\\displaystyle 1024 \\sqrt{243 + 382}$"
      ],
      "text/plain": [
       "1024*sqrt(243 + 382)"
      ]
     },
     "execution_count": 137,
     "metadata": {},
     "output_type": "execute_result"
    }
   ],
   "source": [
    "sympify(\"root(sympify('243 + 382', evaluate=False),2)* sympify('2**10', evaluate=False)\")"
   ]
  },
  {
   "cell_type": "markdown",
   "id": "a3f8bde4",
   "metadata": {},
   "source": [
    "\n",
    "# Great Job!\n",
    "\n",
    "That's all we need to know for now! Congratulations, you have completed one more lesson and hands-on with Python.\n",
    "___\n",
    "____\n",
    "\n",
    "Proprietary Content. All Rights Reserved. This Notebook is prepared by <a href = 'https://www.linkedin.com/in/sumitkumarshukla'> Sumit Kumar Shukla</a> for SymPy Practice __© Copyright by The Analytix(Theax)__. Unauthorized use or distribution prohibited. All Questions Given Below is just made for enhancing your capabilities in Symbolic Mathematics.\n",
    "\n",
    "\n",
    "## Logs\n",
    "\n",
    "\n",
    "| Date (YYYY-MM-DD) | Version | Changed By | Change Description    |\n",
    "| ----------------- | ------- | ---------- | --------------------- |\n",
    "| 2022-11-01        | 1.1  | Purvi   | Prepared for Uploading |\n",
    "| 2021-10-14        | 1.0    | Sumit   | Created Notebook Format of Lab  |\n",
    "|                   |         |            |                       |\n"
   ]
  }
 ],
 "metadata": {
  "kernelspec": {
   "display_name": "Python 3 (ipykernel)",
   "language": "python",
   "name": "python3"
  },
  "language_info": {
   "codemirror_mode": {
    "name": "ipython",
    "version": 3
   },
   "file_extension": ".py",
   "mimetype": "text/x-python",
   "name": "python",
   "nbconvert_exporter": "python",
   "pygments_lexer": "ipython3",
   "version": "3.8.8"
  }
 },
 "nbformat": 4,
 "nbformat_minor": 5
}
